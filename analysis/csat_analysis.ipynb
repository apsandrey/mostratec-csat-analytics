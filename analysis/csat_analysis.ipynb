{
 "cells": [
  {
   "cell_type": "markdown",
   "id": "ac1c5e87",
   "metadata": {},
   "source": [
    "# Análise CSAT – MostraTec"
   ]
  },
  {
   "cell_type": "code",
   "execution_count": 2,
   "id": "14b8e53f",
   "metadata": {},
   "outputs": [],
   "source": [
    "import sqlite3\n",
    "import pandas as pd\n",
    "\n",
    "conn = sqlite3.connect('../backend/data.db')"
   ]
  },
  {
   "cell_type": "code",
   "execution_count": 3,
   "id": "a768b998",
   "metadata": {},
   "outputs": [
    {
     "data": {
      "text/html": [
       "<div>\n",
       "<style scoped>\n",
       "    .dataframe tbody tr th:only-of-type {\n",
       "        vertical-align: middle;\n",
       "    }\n",
       "\n",
       "    .dataframe tbody tr th {\n",
       "        vertical-align: top;\n",
       "    }\n",
       "\n",
       "    .dataframe thead th {\n",
       "        text-align: right;\n",
       "    }\n",
       "</style>\n",
       "<table border=\"1\" class=\"dataframe\">\n",
       "  <thead>\n",
       "    <tr style=\"text-align: right;\">\n",
       "      <th></th>\n",
       "      <th>id</th>\n",
       "      <th>timestamp</th>\n",
       "      <th>name</th>\n",
       "      <th>role</th>\n",
       "      <th>consent</th>\n",
       "      <th>phone</th>\n",
       "      <th>rating</th>\n",
       "      <th>comment</th>\n",
       "    </tr>\n",
       "  </thead>\n",
       "  <tbody>\n",
       "    <tr>\n",
       "      <th>0</th>\n",
       "      <td>1</td>\n",
       "      <td>2025-06-10 22:09:59</td>\n",
       "      <td>Andrey Pereira Silva</td>\n",
       "      <td>aluno</td>\n",
       "      <td>1</td>\n",
       "      <td>(34) 99942-8117</td>\n",
       "      <td>5</td>\n",
       "      <td>None</td>\n",
       "    </tr>\n",
       "    <tr>\n",
       "      <th>1</th>\n",
       "      <td>2</td>\n",
       "      <td>2025-06-10 22:12:35</td>\n",
       "      <td>Bruna Barbosa Carrijo</td>\n",
       "      <td>aluno</td>\n",
       "      <td>1</td>\n",
       "      <td>(34) 99245-0614</td>\n",
       "      <td>5</td>\n",
       "      <td>None</td>\n",
       "    </tr>\n",
       "    <tr>\n",
       "      <th>2</th>\n",
       "      <td>3</td>\n",
       "      <td>2025-06-10 22:14:49</td>\n",
       "      <td>Natália Cristine Dias dos Santos</td>\n",
       "      <td>visitante</td>\n",
       "      <td>1</td>\n",
       "      <td>(16) 98161-1336</td>\n",
       "      <td>5</td>\n",
       "      <td>None</td>\n",
       "    </tr>\n",
       "    <tr>\n",
       "      <th>3</th>\n",
       "      <td>4</td>\n",
       "      <td>2025-06-10 22:16:02</td>\n",
       "      <td>Déborah Alves Correntino</td>\n",
       "      <td>visitante</td>\n",
       "      <td>1</td>\n",
       "      <td>(34) 99308-6393</td>\n",
       "      <td>5</td>\n",
       "      <td>None</td>\n",
       "    </tr>\n",
       "    <tr>\n",
       "      <th>4</th>\n",
       "      <td>5</td>\n",
       "      <td>2025-06-10 22:17:11</td>\n",
       "      <td>Matheus Santana Gonçalves</td>\n",
       "      <td>aluno</td>\n",
       "      <td>1</td>\n",
       "      <td>(34) 99161-2220</td>\n",
       "      <td>5</td>\n",
       "      <td>None</td>\n",
       "    </tr>\n",
       "  </tbody>\n",
       "</table>\n",
       "</div>"
      ],
      "text/plain": [
       "   id            timestamp                              name       role  \\\n",
       "0   1  2025-06-10 22:09:59              Andrey Pereira Silva      aluno   \n",
       "1   2  2025-06-10 22:12:35             Bruna Barbosa Carrijo      aluno   \n",
       "2   3  2025-06-10 22:14:49  Natália Cristine Dias dos Santos  visitante   \n",
       "3   4  2025-06-10 22:16:02          Déborah Alves Correntino  visitante   \n",
       "4   5  2025-06-10 22:17:11         Matheus Santana Gonçalves      aluno   \n",
       "\n",
       "   consent            phone  rating comment  \n",
       "0        1  (34) 99942-8117       5    None  \n",
       "1        1  (34) 99245-0614       5    None  \n",
       "2        1  (16) 98161-1336       5    None  \n",
       "3        1  (34) 99308-6393       5    None  \n",
       "4        1  (34) 99161-2220       5    None  "
      ]
     },
     "execution_count": 3,
     "metadata": {},
     "output_type": "execute_result"
    }
   ],
   "source": [
    "df = pd.read_sql_query('SELECT * FROM evaluations', conn)\n",
    "df.head()"
   ]
  },
  {
   "cell_type": "code",
   "execution_count": 4,
   "id": "e0ffe1ed",
   "metadata": {},
   "outputs": [
    {
     "data": {
      "text/plain": [
       "(66, 8)"
      ]
     },
     "execution_count": 4,
     "metadata": {},
     "output_type": "execute_result"
    }
   ],
   "source": [
    "df = df.drop_duplicates(subset='phone', keep='first')\n",
    "df.shape"
   ]
  },
  {
   "cell_type": "code",
   "execution_count": 5,
   "id": "6d3d9abb",
   "metadata": {},
   "outputs": [
    {
     "name": "stdout",
     "output_type": "stream",
     "text": [
      "Total de respostas: 66\n",
      "Soma de notas: 327\n",
      "Promotores: 66\n",
      "Detratores: 0\n",
      "NPS estimado: 100.0%\n"
     ]
    }
   ],
   "source": [
    "total = len(df)\n",
    "soma_notas = df['rating'].sum()\n",
    "promotores = df[df.rating >= 4].shape[0]\n",
    "detratores = df[df.rating <= 2].shape[0]\n",
    "nps = (promotores/total - detratores/total) * 100\n",
    "\n",
    "print(f'Total de respostas: {total}')\n",
    "print(f'Soma de notas: {soma_notas}')\n",
    "print(f'Promotores: {promotores}')\n",
    "print(f'Detratores: {detratores}')\n",
    "print(f'NPS estimado: {nps:.1f}%')\n"
   ]
  },
  {
   "cell_type": "code",
   "execution_count": 6,
   "id": "195d400f",
   "metadata": {},
   "outputs": [
    {
     "data": {
      "text/html": [
       "<div>\n",
       "<style scoped>\n",
       "    .dataframe tbody tr th:only-of-type {\n",
       "        vertical-align: middle;\n",
       "    }\n",
       "\n",
       "    .dataframe tbody tr th {\n",
       "        vertical-align: top;\n",
       "    }\n",
       "\n",
       "    .dataframe thead th {\n",
       "        text-align: right;\n",
       "    }\n",
       "</style>\n",
       "<table border=\"1\" class=\"dataframe\">\n",
       "  <thead>\n",
       "    <tr style=\"text-align: right;\">\n",
       "      <th></th>\n",
       "      <th>total_respostas</th>\n",
       "      <th>media_nota</th>\n",
       "    </tr>\n",
       "    <tr>\n",
       "      <th>role</th>\n",
       "      <th></th>\n",
       "      <th></th>\n",
       "    </tr>\n",
       "  </thead>\n",
       "  <tbody>\n",
       "    <tr>\n",
       "      <th>aluno</th>\n",
       "      <td>35</td>\n",
       "      <td>4.942857</td>\n",
       "    </tr>\n",
       "    <tr>\n",
       "      <th>professor</th>\n",
       "      <td>2</td>\n",
       "      <td>5.000000</td>\n",
       "    </tr>\n",
       "    <tr>\n",
       "      <th>visitante</th>\n",
       "      <td>29</td>\n",
       "      <td>4.965517</td>\n",
       "    </tr>\n",
       "  </tbody>\n",
       "</table>\n",
       "</div>"
      ],
      "text/plain": [
       "           total_respostas  media_nota\n",
       "role                                  \n",
       "aluno                   35    4.942857\n",
       "professor                2    5.000000\n",
       "visitante               29    4.965517"
      ]
     },
     "execution_count": 6,
     "metadata": {},
     "output_type": "execute_result"
    }
   ],
   "source": [
    "resumo_por_papel = df.groupby('role').agg(\n",
    "    total_respostas=('rating','count'),\n",
    "    media_nota=('rating','mean')\n",
    ")\n",
    "resumo_por_papel"
   ]
  },
  {
   "cell_type": "code",
   "execution_count": 7,
   "id": "1bed9c27",
   "metadata": {},
   "outputs": [
    {
     "data": {
      "image/png": "[encoded data removed]",
      "text/plain": [
       "<Figure size 640x480 with 1 Axes>"
      ]
     },
     "metadata": {},
     "output_type": "display_data"
    }
   ],
   "source": [
    "import matplotlib.pyplot as plt\n",
    "\n",
    "plt.hist(df['rating'], bins=5, edgecolor='black')\n",
    "plt.title('Distribuição de Notas CSAT')\n",
    "plt.xlabel('Nota')\n",
    "plt.ylabel('Frequência')\n",
    "plt.show()"
   ]
  },
  {
   "cell_type": "code",
   "execution_count": 8,
   "id": "062d4bbb",
   "metadata": {},
   "outputs": [
    {
     "data": {
      "image/png": "[encoded data removed]",
      "text/plain": [
       "<Figure size 640x480 with 1 Axes>"
      ]
     },
     "metadata": {},
     "output_type": "display_data"
    }
   ],
   "source": [
    "resumo_por_papel['total_respostas'].plot.bar()\n",
    "plt.title('Respostas por Papel')\n",
    "plt.xlabel('Papel')\n",
    "plt.ylabel('Quantidade')\n",
    "plt.show()"
   ]
  },
  {
   "cell_type": "code",
   "execution_count": 32,
   "id": "223350eb",
   "metadata": {},
   "outputs": [
    {
     "data": {
      "text/html": [
       "<div>\n",
       "<style scoped>\n",
       "    .dataframe tbody tr th:only-of-type {\n",
       "        vertical-align: middle;\n",
       "    }\n",
       "\n",
       "    .dataframe tbody tr th {\n",
       "        vertical-align: top;\n",
       "    }\n",
       "\n",
       "    .dataframe thead th {\n",
       "        text-align: right;\n",
       "    }\n",
       "</style>\n",
       "<table border=\"1\" class=\"dataframe\">\n",
       "  <thead>\n",
       "    <tr style=\"text-align: right;\">\n",
       "      <th></th>\n",
       "      <th>name</th>\n",
       "      <th>phone</th>\n",
       "    </tr>\n",
       "  </thead>\n",
       "  <tbody>\n",
       "    <tr>\n",
       "      <th>47</th>\n",
       "      <td>Isaque de Sousa silva</td>\n",
       "      <td>(34) 99667-3912</td>\n",
       "    </tr>\n",
       "  </tbody>\n",
       "</table>\n",
       "</div>"
      ],
      "text/plain": [
       "                     name            phone\n",
       "47  Isaque de Sousa silva  (34) 99667-3912"
      ]
     },
     "execution_count": 32,
     "metadata": {},
     "output_type": "execute_result"
    }
   ],
   "source": [
    "ganhador = df.sample(1)\n",
    "ganhador[['name','phone']]"
   ]
  }
 ],
 "metadata": {
  "kernelspec": {
   "display_name": "venv",
   "language": "python",
   "name": "python3"
  },
  "language_info": {
   "codemirror_mode": {
    "name": "ipython",
    "version": 3
   },
   "file_extension": ".py",
   "mimetype": "text/x-python",
   "name": "python",
   "nbconvert_exporter": "python",
   "pygments_lexer": "ipython3",
   "version": "3.13.2"
  }
 },
 "nbformat": 4,
 "nbformat_minor": 5
}
